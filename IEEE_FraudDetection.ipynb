{
  "nbformat": 4,
  "nbformat_minor": 0,
  "metadata": {
    "colab": {
      "provenance": [],
      "authorship_tag": "ABX9TyMNqQRqdoxRri0zIhhaWHRb",
      "include_colab_link": true
    },
    "kernelspec": {
      "name": "python3",
      "display_name": "Python 3"
    },
    "language_info": {
      "name": "python"
    }
  },
  "cells": [
    {
      "cell_type": "markdown",
      "metadata": {
        "id": "view-in-github",
        "colab_type": "text"
      },
      "source": [
        "<a href=\"https://colab.research.google.com/github/gussgary/Financial-Fraud-Detection/blob/main/IEEE_FraudDetection.ipynb\" target=\"_parent\"><img src=\"https://colab.research.google.com/assets/colab-badge.svg\" alt=\"Open In Colab\"/></a>"
      ]
    },
    {
      "cell_type": "code",
      "source": [
        "import pandas as pd\n",
        "import numpy as np\n",
        "import matplotlib.pyplot as plt\n",
        "import seaborn as sns\n",
        "import plotly.express as px\n",
        "import plotly.graph_objects as go\n",
        "from plotly.subplots import make_subplots\n",
        "import warnings\n",
        "warnings.filterwarnings('ignore')\n",
        "import os\n",
        "\n",
        "# Machine Learning Libraries\n",
        "from sklearn.model_selection import train_test_split, StratifiedKFold, cross_val_score, GridSearchCV, RandomizedSearchCV\n",
        "from sklearn.preprocessing import StandardScaler, LabelEncoder, RobustScaler\n",
        "from sklearn.impute import SimpleImputer\n",
        "from sklearn.feature_selection import SelectKBest, f_classif, RFE\n",
        "from sklearn.ensemble import RandomForestClassifier, GradientBoostingClassifier, ExtraTreesClassifier\n",
        "from sklearn.linear_model import LogisticRegression\n",
        "from sklearn.svm import SVC\n",
        "from sklearn.neighbors import KNeighborsClassifier\n",
        "from sklearn.naive_bayes import GaussianNB\n",
        "from sklearn.tree import DecisionTreeClassifier\n",
        "\n",
        "# Advanced ML Libraries\n",
        "import xgboost as xgb\n",
        "from imblearn.over_sampling import SMOTE, ADASYN\n",
        "from imblearn.under_sampling import RandomUnderSampler\n",
        "from imblearn.combine import SMOTETomek\n",
        "\n",
        "# Metrics and Evaluation\n",
        "from sklearn.metrics import (\n",
        "    classification_report,\n",
        "    confusion_matrix,\n",
        "    roc_auc_score,\n",
        "    roc_curve,\n",
        "    precision_recall_curve,\n",
        "    average_precision_score,\n",
        "    f1_score,\n",
        "    precision_score,\n",
        "    recall_score,\n",
        "    accuracy_score\n",
        "    )\n",
        "\n",
        "# Statistical Libraries\n",
        "from scipy import stats\n",
        "from scipy.stats import chi2_contingency\n",
        "\n",
        "#Progress Bar\n",
        "from tqdm.auto import tqdm"
      ],
      "metadata": {
        "id": "KLAwyWdZFf9l"
      },
      "execution_count": 10,
      "outputs": []
    },
    {
      "cell_type": "code",
      "source": [
        "from google.colab import drive\n",
        "\n",
        "#Mount Google drive\n",
        "drive.mount('/content/drive', force_remount=True)"
      ],
      "metadata": {
        "id": "-ksvkezfGmBQ",
        "colab": {
          "base_uri": "https://localhost:8080/"
        },
        "outputId": "3fbf5f9c-7bc1-421c-c865-ebdf791a8e79"
      },
      "execution_count": 11,
      "outputs": [
        {
          "output_type": "stream",
          "name": "stdout",
          "text": [
            "Mounted at /content/drive\n"
          ]
        }
      ]
    },
    {
      "cell_type": "code",
      "source": [
        "data_dir = '/content/drive/MyDrive/Master Project/ieee-fraud-detection'\n",
        "print(\"Files in directory:\", os.listdir(data_dir))"
      ],
      "metadata": {
        "colab": {
          "base_uri": "https://localhost:8080/"
        },
        "id": "GFPUgb2Vam9m",
        "outputId": "0068b0bd-f28f-4da7-878a-9583a8bc5358"
      },
      "execution_count": 12,
      "outputs": [
        {
          "output_type": "stream",
          "name": "stdout",
          "text": [
            "Files in directory: ['test_identity.csv', 'sample_submission.csv', 'test_transaction.csv', 'train_identity.csv', 'train_transaction.csv']\n"
          ]
        }
      ]
    },
    {
      "cell_type": "code",
      "source": [
        "data_dir = '/content/drive/MyDrive/Master Project/ieee-fraud-detection'\n",
        "if os.path.exists(data_dir):\n",
        "  print(f'Directory Exist')\n",
        "  print(f'Files:', os.listdir(data_dir))\n",
        "else:\n",
        "  print(f'Directory not found!')"
      ],
      "metadata": {
        "id": "MnMi2MT9MAfG",
        "colab": {
          "base_uri": "https://localhost:8080/"
        },
        "outputId": "3aa38e5f-1272-4559-e620-59dd7dad5f30"
      },
      "execution_count": 13,
      "outputs": [
        {
          "output_type": "stream",
          "name": "stdout",
          "text": [
            "Directory Exist\n",
            "Files: ['test_identity.csv', 'sample_submission.csv', 'test_transaction.csv', 'train_identity.csv', 'train_transaction.csv']\n"
          ]
        }
      ]
    },
    {
      "cell_type": "code",
      "source": [
        "class FraudDetectionPipeline:\n",
        "  def __init__(self):\n",
        "    self.df = None\n",
        "\n",
        "  def load_data(self, data_dir):\n",
        "      try:\n",
        "        train_transaction = pd.read_csv(os.path.join(data_dir, 'train_transaction.csv'))\n",
        "        train_identity = pd.read_csv(os.path.join(data_dir, 'train_identity.csv'))\n",
        "        test_transaction = pd.read_csv(os.path.join(data_dir, 'test_transaction.csv'))\n",
        "        test_identity = pd.read_csv(os.path.join(data_dir, 'test_identity.csv'))\n",
        "\n",
        "        print(f'Train Transaction Data Shape: {train_transaction.shape}')\n",
        "        print(f'Train Identity Data Shape: {train_identity.shape}')\n",
        "        print(f'Test Transaction Data Shape: {test_transaction.shape}')\n",
        "        print(f'Test Identity Data Shape: {test_identity.shape}')\n",
        "\n",
        "        #Merge trained dataset\n",
        "        self.df = train_transaction.merge(train_identity, how='left', on='TransactionID')\n",
        "        print(f'Merged Data Shape: {self.df.shape}')\n",
        "\n",
        "        print(f\"Dataset Overview:\")\n",
        "        print(f\"- Total transactions: {len(self.df):,}\")\n",
        "        print(f\"- Total features: {self.df.shape[1]}\")\n",
        "        print(f\"- Fraud transactions: {self.df['isFraud'].sum():,}\")\n",
        "        print(f\"- Fraud rate: {self.df['isFraud'].mean():.3%}\")\n",
        "        print(f\"- Memory usage: {self.df.memory_usage(deep=True).sum() / 1024**2:.1f} MB\")\n",
        "\n",
        "        return True\n",
        "\n",
        "      except Exception as exc:\n",
        "        print(f'Error: {exc}')\n",
        "        return False\n",
        "\n",
        "\n",
        "#Execute pipeline\n",
        "pipeline = FraudDetectionPipeline()\n",
        "success = pipeline.load_data(data_dir)"
      ],
      "metadata": {
        "colab": {
          "base_uri": "https://localhost:8080/"
        },
        "id": "sfmWhnpzgolI",
        "outputId": "e82c734f-687e-4103-83df-dcfc3b04ab18"
      },
      "execution_count": 18,
      "outputs": [
        {
          "output_type": "stream",
          "name": "stdout",
          "text": [
            "Train Transaction Data Shape: (590540, 394)\n",
            "Train Identity Data Shape: (144233, 41)\n",
            "Test Transaction Data Shape: (506691, 393)\n",
            "Test Identity Data Shape: (141907, 41)\n",
            "Merged Data Shape: (590540, 434)\n",
            "Dataset Overview:\n",
            "- Total transactions: 590,540\n",
            "- Total features: 434\n",
            "- Fraud transactions: 20,663\n",
            "- Fraud rate: 3.499%\n",
            "- Memory usage: 2567.1 MB\n"
          ]
        }
      ]
    }
  ]
}